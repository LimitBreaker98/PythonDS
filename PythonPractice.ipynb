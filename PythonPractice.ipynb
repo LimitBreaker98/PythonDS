{
 "cells": [
  {
   "cell_type": "markdown",
   "metadata": {},
   "source": [
    "# Python practice\n",
    "    Author: Jorge A\n",
    "    Purpose: Knowing specific things of the python language that make it sweet.\n"
   ]
  },
  {
   "cell_type": "markdown",
   "metadata": {},
   "source": [
    "## Language WARNINGS\n",
    "\n",
    "1. Sets are UNORDERED in python. Use a priorityQueue instead.\n",
    "    from queue import PriorityQueue as PQ\n",
    "    PriorityQueue will require class nodes to be well ordered. Define __lt__ and use functools.totalordering annotation.\n",
    "    Sets use the hashing function to quickly test membership in constant time. \n",
    "    \n",
    "2. Use iterable comprehensions when possible to make code more succinct!\n",
    "    We can do it for lists, sets."
   ]
  },
  {
   "cell_type": "markdown",
   "metadata": {},
   "source": [
    "### Iterable unpacking: Assigning the values of an iterable to multiple references in one single line.\n",
    "##### Python std iterable structures: List, Dict, Set, Tuple"
   ]
  },
  {
   "cell_type": "code",
   "execution_count": 3,
   "metadata": {},
   "outputs": [
    {
     "name": "stdout",
     "output_type": "stream",
     "text": [
      "1 2\n"
     ]
    },
    {
     "ename": "NameError",
     "evalue": "name 'x' is not defined",
     "output_type": "error",
     "traceback": [
      "\u001b[0;31m---------------------------------------------------------------------------\u001b[0m",
      "\u001b[0;31mNameError\u001b[0m                                 Traceback (most recent call last)",
      "\u001b[0;32m<ipython-input-3-53bb426902b1>\u001b[0m in \u001b[0;36m<module>\u001b[0;34m\u001b[0m\n\u001b[1;32m     17\u001b[0m \u001b[0;31m#References (x) will be treated as the object they point to at the moment of inclusion in the set\u001b[0m\u001b[0;34m\u001b[0m\u001b[0;34m\u001b[0m\u001b[0;34m\u001b[0m\u001b[0m\n\u001b[1;32m     18\u001b[0m \u001b[0;34m\u001b[0m\u001b[0m\n\u001b[0;32m---> 19\u001b[0;31m \u001b[0mconjunto\u001b[0m \u001b[0;34m=\u001b[0m \u001b[0;34m{\u001b[0m\u001b[0;34m'a'\u001b[0m\u001b[0;34m,\u001b[0m \u001b[0;34m(\u001b[0m\u001b[0;36m2\u001b[0m\u001b[0;34m,\u001b[0m\u001b[0;36m3\u001b[0m\u001b[0;34m,\u001b[0m\u001b[0;36m4\u001b[0m\u001b[0;34m)\u001b[0m\u001b[0;34m,\u001b[0m \u001b[0mx\u001b[0m\u001b[0;34m}\u001b[0m \u001b[0;31m# Everything has to be hashable, adding a list to the tuple fails!\u001b[0m\u001b[0;34m\u001b[0m\u001b[0;34m\u001b[0m\u001b[0m\n\u001b[0m",
      "\u001b[0;31mNameError\u001b[0m: name 'x' is not defined"
     ]
    }
   ],
   "source": [
    "elem1, elem2 = [3,8]\n",
    "#print (elem1, elem2)\n",
    "\n",
    "member1, member2 = {1,2}\n",
    "print(member1, member2)\n",
    "\n",
    "a,b,c = ('a', [2,3], 'c')\n",
    "#print (a,b,c)\n",
    "\n",
    "key_1, key_2, key_3 = {\"a\" : 1, \"b\": 2, \"c\": 3}\n",
    "\n",
    "\n",
    "# Mutability rules\n",
    "tup = ('a', [2,3], 'c') # changing an element of the inner list is valid -> tup[1][0] = 3\n",
    "\n",
    "# A set can receive anything as long as it is non mutable.\n",
    "#References (x) will be treated as the object they point to at the moment of inclusion in the set\n",
    "\n",
    "conjunto = {'a', (2,3,4), x} # Everything has to be hashable, adding a list to the tuple fails!\n"
   ]
  },
  {
   "cell_type": "code",
   "execution_count": 4,
   "metadata": {},
   "outputs": [],
   "source": [
    "## PriorityQueue example\n",
    "\n",
    "# Defining a class that is well ordered so that we can use priority queue..\n",
    "class use_only_first:\n",
    "    def __init__(self, first, second):\n",
    "        self._first, self._second = first, second\n",
    "\n",
    "    def __lt__(self, other):\n",
    "        return self._first < other._first\n",
    "\n",
    "from queue import PriorityQueue as PQ\n",
    "\n",
    "class Solution:\n",
    "    def mergeKLists(self, lists):\n",
    "        merged_head = curr = ListNode(-1)\n",
    "        q = PQ()\n",
    "        for head in lists:\n",
    "            if head is not None:\n",
    "                q.put(use_only_first(head.val, head))\n",
    "        \n",
    "        while not q.empty():\n",
    "            obj = q.get()\n",
    "            val, node = obj._first, obj._second\n",
    "            curr.next = node\n",
    "            curr = curr.next\n",
    "            node = node.next\n",
    "            if node: \n",
    "                q.put(use_only_first(node.val, node))\n",
    "        return merged_head.next\n",
    "        "
   ]
  },
  {
   "cell_type": "markdown",
   "metadata": {},
   "source": [
    "#### Lambda Expressions"
   ]
  },
  {
   "cell_type": "code",
   "execution_count": 5,
   "metadata": {},
   "outputs": [],
   "source": [
    "# List\n",
    "lista = [3,2,1,5,6,7,8,9,-1,2,3,4,-2,-5,-6]\n",
    "res = filter(lambda num: num < 0, lista)"
   ]
  },
  {
   "cell_type": "code",
   "execution_count": 6,
   "metadata": {},
   "outputs": [],
   "source": [
    "tupleList = [(1,2), (3,4), (5,6)]\n",
    "res = list(filter(lambda tup: tup[0] < tup[1], tupleList))"
   ]
  },
  {
   "cell_type": "code",
   "execution_count": 7,
   "metadata": {},
   "outputs": [
    {
     "data": {
      "text/plain": [
       "0"
      ]
     },
     "execution_count": 7,
     "metadata": {},
     "output_type": "execute_result"
    }
   ],
   "source": [
    "tup = (3,4,5,6,7)\n",
    "tup.count(10)"
   ]
  },
  {
   "cell_type": "markdown",
   "metadata": {},
   "source": [
    "### Iterable Comprehensions: easy syntax to initialize Iterables"
   ]
  },
  {
   "cell_type": "code",
   "execution_count": 8,
   "metadata": {},
   "outputs": [
    {
     "name": "stdout",
     "output_type": "stream",
     "text": [
      "<class 'set'>\n",
      "{1: [10, 20]}\n"
     ]
    }
   ],
   "source": [
    "## List\n",
    "letters = [letter for letter in \"string\"]\n",
    "#print(letters)\n",
    "\n",
    "parity_of_integers = [num % 2 for num in range(30)]\n",
    "#print(parity_of_integers)\n",
    "\n",
    "seen_set = {x for x in [3,5,7,9,10,10,10,20]}\n",
    "print(type(seen_set))\n",
    "\n",
    "seen_dict = {key: value for key, value in [(1,[10,20])]}  ## Less useful as we need a list of (maybe) any kind of 2 valued iterables\n",
    "print(seen_dict)"
   ]
  },
  {
   "cell_type": "markdown",
   "metadata": {},
   "source": [
    "#### Applications of Iterable Comprehensions"
   ]
  },
  {
   "cell_type": "code",
   "execution_count": 18,
   "metadata": {},
   "outputs": [
    {
     "data": {
      "text/plain": [
       "[[0, 0], [0, 0], [0, 0]]"
      ]
     },
     "execution_count": 18,
     "metadata": {},
     "output_type": "execute_result"
    }
   ],
   "source": [
    "## Initialize dp cache\n",
    "rows = 3\n",
    "cols = 2\n",
    "dp = [[0 for c in range(cols)] for r in range(rows)]\n",
    "dp"
   ]
  },
  {
   "cell_type": "code",
   "execution_count": 16,
   "metadata": {},
   "outputs": [
    {
     "data": {
      "text/plain": [
       "[[0, 0], [0, 0], [0, 0]]"
      ]
     },
     "execution_count": 16,
     "metadata": {},
     "output_type": "execute_result"
    }
   ],
   "source": [
    "## Another version\n",
    "dp2 = rows * [cols * [0]]\n",
    "dp2"
   ]
  },
  {
   "cell_type": "markdown",
   "metadata": {},
   "source": [
    "#### Binary Search Template"
   ]
  },
  {
   "cell_type": "code",
   "execution_count": 4,
   "metadata": {},
   "outputs": [],
   "source": [
    "def binary_search(array) -> int:\n",
    "    def condition(value) -> bool:\n",
    "        pass\n",
    "\n",
    "    left, right = 0, len(array)\n",
    "    while left < right:\n",
    "        mid = left + (right - left) // 2\n",
    "        if condition(mid):\n",
    "            right = mid\n",
    "        else:\n",
    "            left = mid + 1\n",
    "    return left"
   ]
  }
 ],
 "metadata": {
  "kernelspec": {
   "display_name": "Python 3",
   "language": "python",
   "name": "python3"
  },
  "language_info": {
   "codemirror_mode": {
    "name": "ipython",
    "version": 3
   },
   "file_extension": ".py",
   "mimetype": "text/x-python",
   "name": "python",
   "nbconvert_exporter": "python",
   "pygments_lexer": "ipython3",
   "version": "3.7.4"
  }
 },
 "nbformat": 4,
 "nbformat_minor": 4
}
