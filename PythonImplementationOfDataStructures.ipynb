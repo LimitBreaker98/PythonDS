{
 "cells": [
  {
   "cell_type": "markdown",
   "metadata": {},
   "source": [
    "### Implementations of python 3 data structures"
   ]
  },
  {
   "cell_type": "markdown",
   "metadata": {},
   "source": [
    "### author: Jorge A"
   ]
  },
  {
   "cell_type": "markdown",
   "metadata": {},
   "source": [
    "###### LinkedList"
   ]
  },
  {
   "cell_type": "code",
   "execution_count": 127,
   "metadata": {},
   "outputs": [],
   "source": [
    "class LinkedList:\n",
    "    \n",
    "    ## 2 underscores in front means its hidden except for the LinkedList class\n",
    "    class __Node:\n",
    "        def __init__(self, item, next = None):\n",
    "            self.item = item\n",
    "            self.next = next\n",
    "        \n",
    "        def get_next(self):\n",
    "            return self.next\n",
    "    \n",
    "        def get_item(self):\n",
    "            return self.item\n",
    "\n",
    "        def set_item(self, newItem):\n",
    "            self.item = newItem\n",
    "\n",
    "        def set_next(self, newNext):\n",
    "            self.next = newNext\n",
    "        \n",
    "        def __str__(self):\n",
    "            return str(self.item)\n",
    "    \n",
    "    class __LinkedListIterator:\n",
    "        \n",
    "        def __init__(self, head):\n",
    "            self.current = head.next\n",
    "            \n",
    "        def __iter__(self):\n",
    "            return self\n",
    "        \n",
    "        def __next__(self):\n",
    "            if not self.current:\n",
    "                raise StopIteration\n",
    "            else:\n",
    "                val = self.current.get_item()\n",
    "                self.current = self.current.get_next()\n",
    "                return val\n",
    "    \n",
    "    ## implement next 2 methods to make linkedList iterable!\n",
    "    def __next__(self):\n",
    "        if (self.first):\n",
    "            val = self.first\n",
    "            self.first = self.first.next\n",
    "            return val\n",
    "        else: \n",
    "            raise StopIteration\n",
    "\n",
    "    def __iter__(self):\n",
    "        return LinkedList.__LinkedListIterator(self.first)\n",
    "        \n",
    "    def __str__(self):\n",
    "        curr = self.first.next\n",
    "        rep = [\"(\"]\n",
    "        while(curr):\n",
    "            if (curr.next):\n",
    "                rep.append(str(curr.item) + \" -> \")\n",
    "            else: \n",
    "                rep.append(str(curr.item) + \")\")\n",
    "            curr = curr.next\n",
    "        return \"\".join(rep) ## Fastest string concat!\n",
    "        \n",
    "    def append(self, newNode):\n",
    "        self.last.set_next(newNode)\n",
    "        self.last = self.last.next\n",
    "        self.sz += 1\n",
    "    \n",
    "    def __len__(self):\n",
    "        return self.sz\n",
    "    \n",
    "    def __init__ (self, contents=[]):\n",
    "        self.first = self.last =  LinkedList.__Node(None, None)\n",
    "        self.sz = 0\n",
    "        self.curr = self.first\n",
    "        \n",
    "        for e in contents:\n",
    "            self.append(LinkedList.__Node(e))\n",
    "        "
   ]
  },
  {
   "cell_type": "code",
   "execution_count": 128,
   "metadata": {},
   "outputs": [],
   "source": [
    "ll = LinkedList([3,4,5,6,7,8])"
   ]
  },
  {
   "cell_type": "code",
   "execution_count": 129,
   "metadata": {},
   "outputs": [
    {
     "name": "stdout",
     "output_type": "stream",
     "text": [
      "(3 -> 4 -> 5 -> 6 -> 7 -> 8)\n"
     ]
    }
   ],
   "source": [
    "print(ll)"
   ]
  },
  {
   "cell_type": "code",
   "execution_count": 130,
   "metadata": {},
   "outputs": [
    {
     "name": "stdout",
     "output_type": "stream",
     "text": [
      "3\n",
      "4\n",
      "5\n",
      "6\n",
      "7\n",
      "8\n"
     ]
    }
   ],
   "source": [
    "for i in ll:\n",
    "    print(i)"
   ]
  },
  {
   "cell_type": "code",
   "execution_count": 131,
   "metadata": {},
   "outputs": [],
   "source": [
    "emptyLL = LinkedList([])"
   ]
  },
  {
   "cell_type": "code",
   "execution_count": 134,
   "metadata": {},
   "outputs": [
    {
     "name": "stdout",
     "output_type": "stream",
     "text": [
      "0 6\n"
     ]
    }
   ],
   "source": [
    "print(len(emptyLL), len(ll))"
   ]
  },
  {
   "cell_type": "code",
   "execution_count": 11,
   "metadata": {},
   "outputs": [
    {
     "name": "stdout",
     "output_type": "stream",
     "text": [
      "1\n",
      "2\n"
     ]
    }
   ],
   "source": []
  },
  {
   "cell_type": "code",
   "execution_count": 121,
   "metadata": {},
   "outputs": [],
   "source": [
    "class Waffle:\n",
    "    def __str__(self):\n",
    "        return f\"Hola soy el Waffle de sabor: {self.sabor} y mi peso es {self.peso}\"\n",
    "    \n",
    "    def __gt__(self, other):\n",
    "        return self.peso > other.peso\n",
    "    \n",
    "    def __eq__(self, other):\n",
    "        return self.sabor == other.sabor and self.color == other.color\n",
    "    \n",
    "    def __init__(self, sabor, peso = 3, tamano = \"pequeño\", fruta = []):\n",
    "        ## Las \"variables\" de un objeto se llaman atributos\n",
    "        self.sabor = sabor\n",
    "        self.peso = peso\n",
    "        self.tamano = tamano\n",
    "        self.fruta = fruta\n",
    "    \n",
    "    ## Getters and Setters\n",
    "    \n",
    "    def get_sabor(self):\n",
    "        return self.sabor\n",
    "    \n",
    "    def set_peso(self, peso):\n",
    "        self.peso = peso\n",
    "    \n",
    "    \n",
    "mi_waffle = Waffle(\"sabor rico\")\n",
    "mi_waffle2 = Waffle(\"sabor rico\", 4)\n"
   ]
  },
  {
   "cell_type": "code",
   "execution_count": 120,
   "metadata": {},
   "outputs": [],
   "source": [
    "lista_de_waffle = [mi_waffle2, mi_waffle]"
   ]
  },
  {
   "cell_type": "code",
   "execution_count": 104,
   "metadata": {},
   "outputs": [
    {
     "name": "stdout",
     "output_type": "stream",
     "text": [
      "Hola soy el Waffle de sabor: Dulce y mi peso es 6\n",
      "Hola soy el Waffle de sabor: Dulce y mi peso es 3\n"
     ]
    },
    {
     "ename": "TypeError",
     "evalue": "'<' not supported between instances of 'Waffle' and 'Waffle'",
     "output_type": "error",
     "traceback": [
      "\u001b[0;31m---------------------------------------------------------------------------\u001b[0m",
      "\u001b[0;31mTypeError\u001b[0m                                 Traceback (most recent call last)",
      "\u001b[0;32m<ipython-input-104-03448bb00787>\u001b[0m in \u001b[0;36m<module>\u001b[0;34m\u001b[0m\n\u001b[1;32m      2\u001b[0m     \u001b[0mprint\u001b[0m \u001b[0;34m(\u001b[0m\u001b[0mwaffle\u001b[0m\u001b[0;34m)\u001b[0m\u001b[0;34m\u001b[0m\u001b[0;34m\u001b[0m\u001b[0m\n\u001b[1;32m      3\u001b[0m \u001b[0;34m\u001b[0m\u001b[0m\n\u001b[0;32m----> 4\u001b[0;31m \u001b[0mlista_de_waffle\u001b[0m\u001b[0;34m.\u001b[0m\u001b[0msort\u001b[0m\u001b[0;34m(\u001b[0m\u001b[0;34m)\u001b[0m\u001b[0;34m\u001b[0m\u001b[0;34m\u001b[0m\u001b[0m\n\u001b[0m\u001b[1;32m      5\u001b[0m \u001b[0;34m\u001b[0m\u001b[0m\n\u001b[1;32m      6\u001b[0m \u001b[0;32mfor\u001b[0m \u001b[0mwaffle\u001b[0m \u001b[0;32min\u001b[0m \u001b[0mlista_de_waffle\u001b[0m\u001b[0;34m:\u001b[0m\u001b[0;34m\u001b[0m\u001b[0;34m\u001b[0m\u001b[0m\n",
      "\u001b[0;31mTypeError\u001b[0m: '<' not supported between instances of 'Waffle' and 'Waffle'"
     ]
    }
   ],
   "source": [
    "for waffle in lista_de_waffle:\n",
    "    print (waffle)\n",
    "\n",
    "lista_de_waffle.sort()\n",
    "\n",
    "for waffle in lista_de_waffle:\n",
    "    print (waffle)"
   ]
  },
  {
   "cell_type": "code",
   "execution_count": 113,
   "metadata": {},
   "outputs": [],
   "source": [
    "class Letra:\n",
    "    \n",
    "    def __init__(self, let, alfabeto = \"francés\"):\n",
    "        self.letra = let\n",
    "        self.alfabeto = alfabeto\n",
    "        \n",
    "        \n",
    "    def __gt__(self, other):\n",
    "        return ord(self.letra) > ord(other.letra)\n",
    "    def __eq__(self, other):\n",
    "        return ord(self.letra) == ord(other.letra)"
   ]
  },
  {
   "cell_type": "code",
   "execution_count": 117,
   "metadata": {},
   "outputs": [],
   "source": [
    "x = Letra(\"a\")"
   ]
  }
 ],
 "metadata": {
  "kernelspec": {
   "display_name": "Python 3",
   "language": "python",
   "name": "python3"
  },
  "language_info": {
   "codemirror_mode": {
    "name": "ipython",
    "version": 3
   },
   "file_extension": ".py",
   "mimetype": "text/x-python",
   "name": "python",
   "nbconvert_exporter": "python",
   "pygments_lexer": "ipython3",
   "version": "3.7.4"
  }
 },
 "nbformat": 4,
 "nbformat_minor": 4
}
