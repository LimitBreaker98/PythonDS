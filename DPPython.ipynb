{
 "cells": [
  {
   "cell_type": "markdown",
   "metadata": {},
   "source": [
    "#### A section where solutions to DP are presented in python"
   ]
  },
  {
   "cell_type": "code",
   "execution_count": 1,
   "metadata": {},
   "outputs": [],
   "source": [
    "### Longest Palindrome\n",
    "# Given s, a string, determine the longest palindromic substring inside it.\n"
   ]
  },
  {
   "cell_type": "code",
   "execution_count": 2,
   "metadata": {},
   "outputs": [],
   "source": [
    "## V1, DP O(n^2) time, O(n^2) space where n = len(s)\n",
    "## Veredict: Accepted\n",
    "\n",
    "def longestPalindrome(s: str) -> str:\n",
    "    n = len(s)\n",
    "    isPalindrome = [[False for col in range(n)] for row in range(n)]\n",
    "    posStart, posEnd = 0,0\n",
    "    # base case 1, a one letter substring is a palindrome\n",
    "    for i in range(n):\n",
    "        isPalindrome[i][i] = True\n",
    "\n",
    "    # base case 2, a 2 letter string is palindrome only if same letters\n",
    "    for i in range(n-1):\n",
    "        if s[i] == s[i+1]:\n",
    "            isPalindrome[i][i+1] = True\n",
    "            posStart, posEnd = i, i + 1\n",
    "\n",
    "    #General case, iterate over the possible size of substrings, from 3 letters to N letters.\n",
    "    \n",
    "    for sz in range(2, n):\n",
    "        for i in range(n):\n",
    "            if i + sz < n: # valid substring\n",
    "                sameEnd = s[i] == s[i + sz]\n",
    "                isPalindrome[i][i + sz] = sameEnd and isPalindrome[i+1][i + sz - 1]\n",
    "                if (isPalindrome[i][i + sz]):\n",
    "                    posStart = i\n",
    "                    posEnd = i + sz\n",
    "    return s[posStart:posEnd+1]"
   ]
  },
  {
   "cell_type": "code",
   "execution_count": 11,
   "metadata": {},
   "outputs": [],
   "source": [
    "## Improving space to O(n)\n",
    "## Realize you can iterate from end to beginning starting points, and only have an array for the next level answer\n",
    "## Draw arrows in the DP matrix to realize the form of the dependency graph\n",
    "## Veredict: Accepted\n",
    "\n",
    "def longestPalindromeV2(s: str) -> str:\n",
    "    n = len(s)\n",
    "    if len(s) == 0:\n",
    "        return ''\n",
    "    isPalindrome = [False for col in range(n)]\n",
    "    isPalindrome[n-1] = True\n",
    "    posStart, posEnd = n-1, n-1\n",
    "    \n",
    "    \n",
    "    for r in reversed(range(n)):\n",
    "        for c in reversed(range(r, n)):\n",
    "            if r == c: # base case 1\n",
    "                isPalindrome[c] = True\n",
    "            elif r + 1 == c and s[r] == s[c]: #base case 2\n",
    "                isPalindrome[c] = True\n",
    "                if c - r + 1 > posEnd - posStart + 1:\n",
    "                    posStart, posEnd = r, c\n",
    "            else:\n",
    "                isPalindrome[c] = isPalindrome[c-1] and s[r] == s[c]\n",
    "                if isPalindrome[c] and c - r + 1 > posEnd - posStart + 1:\n",
    "                    posStart, posEnd = r, c\n",
    "    \n",
    "    return s[posStart:posEnd + 1]\n",
    "    \n",
    "    "
   ]
  },
  {
   "cell_type": "code",
   "execution_count": 14,
   "metadata": {},
   "outputs": [
    {
     "data": {
      "text/plain": [
       "'babab'"
      ]
     },
     "execution_count": 14,
     "metadata": {},
     "output_type": "execute_result"
    }
   ],
   "source": [
    "longestPalindromeV2(\"babab\")"
   ]
  },
  {
   "cell_type": "code",
   "execution_count": null,
   "metadata": {},
   "outputs": [],
   "source": []
  }
 ],
 "metadata": {
  "kernelspec": {
   "display_name": "Python 3",
   "language": "python",
   "name": "python3"
  },
  "language_info": {
   "codemirror_mode": {
    "name": "ipython",
    "version": 3
   },
   "file_extension": ".py",
   "mimetype": "text/x-python",
   "name": "python",
   "nbconvert_exporter": "python",
   "pygments_lexer": "ipython3",
   "version": "3.7.4"
  }
 },
 "nbformat": 4,
 "nbformat_minor": 4
}
